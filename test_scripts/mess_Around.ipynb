{
 "cells": [
  {
   "cell_type": "code",
   "execution_count": 35,
   "metadata": {
    "collapsed": false
   },
   "outputs": [],
   "source": [
    "# import block\n",
    "import wget\n",
    "import os\n",
    "import time\n",
    "from datetime import date"
   ]
  },
  {
   "cell_type": "code",
   "execution_count": 57,
   "metadata": {
    "collapsed": false
   },
   "outputs": [],
   "source": [
    "# Function to grab bus data and dump to file system\n",
    "def downloadBusDataLive(routeNum,localDir):\n",
    "    wget.download('https://api-v3.mbta.com/vehicles?&filter[route]='+ str(routeNum))\n",
    "    #dirStr = 'ftp://cddis.gsfc.nasa.gov/pub/gps/data/daily/' + yearStr + '/' + dayStr + '/' + yearStr2 + 'n/'\n",
    "    today = date.today()\n",
    "    timeStruct=time.localtime()\n",
    "    targetSeconds=timeStruct.tm_hour*3600 + timeStruct.tm_min*3600 + timeStruct.tm_sec\n",
    "        \n",
    "    targetFile = localDir + '/' +  str(routeNum) + '/' + str(today) + '/' + str(targetSeconds) + '.bus'\n",
    "    \n",
    "    # make bus mainDirectory\n",
    "    try:\n",
    "        os.mkdir(localDir)\n",
    "    except OSError:\n",
    "        print('')\n",
    "        \n",
    "    # make directory for route Number    \n",
    "    try:\n",
    "        os.mkdir(localDir + '/' +  str(routeNum))\n",
    "    except OSError:\n",
    "        print('')\n",
    "    # make directory for day   \n",
    "    try:\n",
    "        os.mkdir(localDir + '/' +  str(routeNum) + '/' + str(today))\n",
    "    except OSError:\n",
    "        print('')\n",
    "    \n",
    "    os.rename(\"vehicles\", targetFile)\n",
    "    \n",
    "    print targetFile\n",
    "    \n",
    "    \n",
    "    "
   ]
  },
  {
   "cell_type": "code",
   "execution_count": 59,
   "metadata": {
    "collapsed": false
   },
   "outputs": [
    {
     "name": "stdout",
     "output_type": "stream",
     "text": [
      "\n",
      "\n",
      "\n",
      "busData/88/2018-11-05/151230.bus\n"
     ]
    }
   ],
   "source": [
    "downloadBusDataLive(88,'busData')\n"
   ]
  },
  {
   "cell_type": "code",
   "execution_count": null,
   "metadata": {
    "collapsed": true
   },
   "outputs": [],
   "source": []
  }
 ],
 "metadata": {
  "kernelspec": {
   "display_name": "Python 2",
   "language": "python",
   "name": "python2"
  },
  "language_info": {
   "codemirror_mode": {
    "name": "ipython",
    "version": 2
   },
   "file_extension": ".py",
   "mimetype": "text/x-python",
   "name": "python",
   "nbconvert_exporter": "python",
   "pygments_lexer": "ipython2",
   "version": "2.7.13"
  }
 },
 "nbformat": 4,
 "nbformat_minor": 2
}
