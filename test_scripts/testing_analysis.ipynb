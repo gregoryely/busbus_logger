{
 "cells": [
  {
   "cell_type": "code",
   "execution_count": 4,
   "metadata": {
    "collapsed": false
   },
   "outputs": [],
   "source": [
    "import json\n",
    "import os\n",
    "import json,ast\n",
    "from pprint import pprint\n",
    "import pandas as pd\n",
    "import matplotlib.pyplot as plt"
   ]
  },
  {
   "cell_type": "code",
   "execution_count": 39,
   "metadata": {
    "collapsed": false
   },
   "outputs": [
    {
     "data": {
      "image/png": "[encoded data removed]",
      "text/plain": [
       "<matplotlib.figure.Figure at 0x121d20c90>"
      ]
     },
     "metadata": {},
     "output_type": "display_data"
    }
   ],
   "source": [
    "#fileList=os.listdir(targetDir)\n",
    "\n",
    "\n",
    "#with open('busData/77/2018-11-05/140429.bus') as f:\n",
    " #   data = json.load(f)\n",
    "\n",
    "def getAlltripsIDs(targetDir):\n",
    "    allIds = set()\n",
    "    fileList=os.listdir(targetDir)\n",
    "    for curname in fileList:\n",
    "        with open(targetDir + curname) as f:\n",
    "            data = json.load(f)\n",
    "        #print curname\n",
    "\n",
    "        for i in range(0,len(data)):\n",
    "            tripID = int(data['data'][i]['relationships']['trip']['data']['id'])\n",
    "            allIds.add(tripID)\n",
    "    return list(allIds)\n",
    "\n",
    "def getMsgsFromId(targetDir,targetId):\n",
    "    \n",
    "    msgNum = 0\n",
    "    \n",
    "    df = pd.DataFrame()\n",
    "    fileList=os.listdir(targetDir)\n",
    "    for curname in fileList:\n",
    "        with open(targetDir + curname) as f:\n",
    "            data = json.load(f)\n",
    "        #print curname\n",
    "\n",
    "        for i in range(0,len(data)):\n",
    "            tripID = int(data['data'][i]['relationships']['trip']['data']['id'])\n",
    "            if tripID == targetId:\n",
    "                \n",
    "                #pprint(data['data'][i]['attributes'])\n",
    "                \n",
    "                temp = dict(data['data'][i]['attributes'])\n",
    "                temp['id'] = tripID\n",
    "                if msgNum == 0:\n",
    "                    df=pd.DataFrame.from_dict(temp, orient='index')\n",
    "                    df=df.transpose()\n",
    "                else:\n",
    "                    df_t=pd.DataFrame.from_dict(temp, orient='index')\n",
    "                    df_t = df_t.transpose()\n",
    "                    df = pd.concat([df, df_t])\n",
    "                    #df = df.join(df_t,lsuffix='', rsuffix=str(msgNum))\n",
    "                \n",
    "                msgNum = msgNum + 1\n",
    "                \n",
    "    return df\n",
    "# End def of functions\n",
    "                \n",
    "targetDir = 'busData/88/2018-11-06/'    \n",
    "allIds=getAlltripsIDs(targetDir)\n",
    "myTest = getMsgsFromId(targetDir,allIds[2])\n",
    "\n",
    "\n",
    "targetDir = 'busData/77/2018-11-06/'    \n",
    "allIds=getAlltripsIDs(targetDir)\n",
    "myTest2 = getMsgsFromId(targetDir,allIds[1])\n",
    "\n",
    "targetDir = 'busData/87/2018-11-06/'    \n",
    "allIds=getAlltripsIDs(targetDir)\n",
    "myTest3 = getMsgsFromId(targetDir,allIds[3])\n",
    "\n",
    "\n",
    "targetDir = 'busData/88/2018-11-06/'    \n",
    "allIds=getAlltripsIDs(targetDir)\n",
    "myTest4 = getMsgsFromId(targetDir,allIds[4])\n",
    "\n",
    "\n",
    "\n",
    "plt.plot(myTest['longitude'],myTest['latitude'],'.')\n",
    "plt.plot(myTest2['longitude'],myTest2['latitude'],'.')\n",
    "plt.plot(myTest3['longitude'],myTest3['latitude'],'.')\n",
    "plt.plot(myTest4['longitude'],myTest4['latitude'],'.')\n",
    "plt.plot(-71.1223,42.3967,'ko')\n",
    "plt.text(-71.1223,42.3967,'Davis')\n",
    "\n",
    "plt.plot(-71.1194,42.3889,'ko')\n",
    "plt.text(-71.1194,42.3889,'Porter')\n",
    "\n",
    "plt.plot(-71.1167,42.3770,'ko')\n",
    "plt.text(-71.1167,42.3770,'Harvard')\n",
    "\n",
    "plt.plot(-71.0964,42.3797,'ko')\n",
    "plt.text(-71.0964,42.3797,'Union')\n",
    "\n",
    "\n",
    "plt.plot(-71.1285,42.4011,'ko')\n",
    "plt.text(-71.1285,42.4011,'Teele')\n",
    "\n",
    "\n",
    "\n",
    "#plt.plot(myTest['current_stop_sequence'],'.')\n",
    "\n",
    "plt.show()\n",
    "\n",
    "#myTest['dir']\n",
    "\n"
   ]
  },
  {
   "cell_type": "code",
   "execution_count": 13,
   "metadata": {
    "collapsed": false
   },
   "outputs": [],
   "source": [
    "#myTest\n"
   ]
  },
  {
   "cell_type": "code",
   "execution_count": null,
   "metadata": {
    "collapsed": true
   },
   "outputs": [],
   "source": []
  }
 ],
 "metadata": {
  "kernelspec": {
   "display_name": "Python 2",
   "language": "python",
   "name": "python2"
  },
  "language_info": {
   "codemirror_mode": {
    "name": "ipython",
    "version": 2
   },
   "file_extension": ".py",
   "mimetype": "text/x-python",
   "name": "python",
   "nbconvert_exporter": "python",
   "pygments_lexer": "ipython2",
   "version": "2.7.13"
  }
 },
 "nbformat": 4,
 "nbformat_minor": 2
}
